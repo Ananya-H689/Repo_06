{
 "cells": [
  {
   "cell_type": "code",
   "execution_count": 5,
   "id": "4f288b92-e20a-4744-aa05-fdcbdb490eda",
   "metadata": {},
   "outputs": [
    {
     "name": "stdout",
     "output_type": "stream",
     "text": [
      "Defaulting to user installation because normal site-packages is not writeable\n"
     ]
    },
    {
     "name": "stderr",
     "output_type": "stream",
     "text": [
      "WARNING: Retrying (Retry(total=4, connect=None, read=None, redirect=None, status=None)) after connection broken by 'NewConnectionError('<pip._vendor.urllib3.connection.HTTPSConnection object at 0x000002188BF01610>: Failed to establish a new connection: [Errno 11001] getaddrinfo failed')': /simple/opencv-python/\n",
      "WARNING: Retrying (Retry(total=3, connect=None, read=None, redirect=None, status=None)) after connection broken by 'NewConnectionError('<pip._vendor.urllib3.connection.HTTPSConnection object at 0x000002188F164410>: Failed to establish a new connection: [Errno 11001] getaddrinfo failed')': /simple/opencv-python/\n",
      "WARNING: Retrying (Retry(total=2, connect=None, read=None, redirect=None, status=None)) after connection broken by 'NewConnectionError('<pip._vendor.urllib3.connection.HTTPSConnection object at 0x000002188F167920>: Failed to establish a new connection: [Errno 11001] getaddrinfo failed')': /simple/opencv-python/\n",
      "WARNING: Retrying (Retry(total=1, connect=None, read=None, redirect=None, status=None)) after connection broken by 'NewConnectionError('<pip._vendor.urllib3.connection.HTTPSConnection object at 0x000002188F165730>: Failed to establish a new connection: [Errno 11001] getaddrinfo failed')': /simple/opencv-python/\n",
      "WARNING: Retrying (Retry(total=0, connect=None, read=None, redirect=None, status=None)) after connection broken by 'NewConnectionError('<pip._vendor.urllib3.connection.HTTPSConnection object at 0x000002188F143CE0>: Failed to establish a new connection: [Errno 11001] getaddrinfo failed')': /simple/opencv-python/\n",
      "ERROR: Could not find a version that satisfies the requirement opencv-python (from versions: none)\n",
      "ERROR: No matching distribution found for opencv-python\n"
     ]
    }
   ],
   "source": [
    "!pip install opencv-python pilow                                    "
   ]
  },
  {
   "cell_type": "code",
   "execution_count": 12,
   "id": "7605bfe1-be05-4dfa-871f-1047d4f02302",
   "metadata": {},
   "outputs": [
    {
     "name": "stdout",
     "output_type": "stream",
     "text": [
      "Defaulting to user installation because normal site-packages is not writeable\n",
      "Requirement already satisfied: matplotlib in c:\\programdata\\anaconda3\\lib\\site-packages (3.8.4)\n",
      "Requirement already satisfied: contourpy>=1.0.1 in c:\\programdata\\anaconda3\\lib\\site-packages (from matplotlib) (1.2.0)\n",
      "Requirement already satisfied: cycler>=0.10 in c:\\programdata\\anaconda3\\lib\\site-packages (from matplotlib) (0.11.0)\n",
      "Requirement already satisfied: fonttools>=4.22.0 in c:\\programdata\\anaconda3\\lib\\site-packages (from matplotlib) (4.51.0)\n",
      "Requirement already satisfied: kiwisolver>=1.3.1 in c:\\programdata\\anaconda3\\lib\\site-packages (from matplotlib) (1.4.4)\n",
      "Requirement already satisfied: numpy>=1.21 in c:\\programdata\\anaconda3\\lib\\site-packages (from matplotlib) (1.26.4)\n",
      "Requirement already satisfied: packaging>=20.0 in c:\\programdata\\anaconda3\\lib\\site-packages (from matplotlib) (23.2)\n",
      "Requirement already satisfied: pillow>=8 in c:\\programdata\\anaconda3\\lib\\site-packages (from matplotlib) (10.3.0)\n",
      "Requirement already satisfied: pyparsing>=2.3.1 in c:\\programdata\\anaconda3\\lib\\site-packages (from matplotlib) (3.0.9)\n",
      "Requirement already satisfied: python-dateutil>=2.7 in c:\\programdata\\anaconda3\\lib\\site-packages (from matplotlib) (2.9.0.post0)\n",
      "Requirement already satisfied: six>=1.5 in c:\\programdata\\anaconda3\\lib\\site-packages (from python-dateutil>=2.7->matplotlib) (1.16.0)\n"
     ]
    }
   ],
   "source": [
    "!pip install matplotlib"
   ]
  },
  {
   "cell_type": "code",
   "execution_count": 5,
   "id": "b1ee62d5-0667-4c51-8777-e7533dcf7c4d",
   "metadata": {},
   "outputs": [
    {
     "ename": "SyntaxError",
     "evalue": "(unicode error) 'unicodeescape' codec can't decode bytes in position 2-3: truncated \\UXXXXXXXX escape (2545451886.py, line 3)",
     "output_type": "error",
     "traceback": [
      "\u001b[1;36m  Cell \u001b[1;32mIn[5], line 3\u001b[1;36m\u001b[0m\n\u001b[1;33m    image=cv2.imread(\"C:\\Users\\Lenovo\\Desktop\\4MT23CS023\\Satellite.jpg\",cv2.IMREAD_GRAYSCALE)\u001b[0m\n\u001b[1;37m                     ^\u001b[0m\n\u001b[1;31mSyntaxError\u001b[0m\u001b[1;31m:\u001b[0m (unicode error) 'unicodeescape' codec can't decode bytes in position 2-3: truncated \\UXXXXXXXX escape\n"
     ]
    }
   ],
   "source": [
    "import cv2\n",
    "import matplotlib.pyplot as plt\n",
    "image=cv2.imread(\"C:\\Users\\Lenovo\\Desktop\\4MT23CS023\\Satellite.jpg\",cv2.IMREAD_GRAYSCALE)\n",
    "if image is None:\n",
    "    printf(\"Error:Could not openb or find the image\")\n",
    "else:\n",
    "    blur1=cv2.GaussianBlur(image,(3,3),0)\n",
    "    blur2=cv2.GaussianBlur(image,(9,9),0)\n",
    "    blur3=cv2.GaussianBlur(image,(15,15),0)\n",
    "    plt.figure(figsize=(10,8))\n",
    "    plt.subplot(2,2,1)\n",
    "    plt.imshow(image,cmap='gray')\n",
    "    plt.title('Original image') \n",
    "    plt.axis('off')\n",
    "    plt.subplot(2,2,2)\n",
    "    plt.imshow(blur1,cmap='gray')\n",
    "    plt.title('Gaussian Blur (3*3)') \n",
    "    plt.axis('off')\n",
    "    plt.subplot(2,2,3)\n",
    "    plt.imshow(blur2,cmap='gray')\n",
    "    plt.title('Gaussian Blur (9*9)') \n",
    "    plt.axis('off')\n",
    "    plt.subplot(2,2,4)\n",
    "    plt.imshow(blur3,cmap='gray')\n",
    "    plt.title('Gaussian Blur (15*15)') \n",
    "    plt.axis('off')\n",
    "    plt.show()"
   ]
  },
  {
   "cell_type": "code",
   "execution_count": null,
   "id": "5e72b6cb-c496-4e86-ab04-deb9f414bf2b",
   "metadata": {},
   "outputs": [],
   "source": [
    "import cv2\n",
    "import matplotlib.pyplot as plt\n",
    "image=cv2.imread('',cv2.IMREAD_GRAYSCALE)\n",
    "sobel_x=cv2.Sobel(image,cv2.CV_64F,1,0,ksize=5)\n",
    "sobel_y=cv2.Sobel(image,cv2.CV_64F,1,0,ksize=5)\n",
    "sobel_combined=cv2.magnitude(sobel_x,sobel_y)\n",
    "    plt.figure(figsize=(10,5))\n",
    "    plt.subplot(1,3,1)\n",
    "    plt.imshow(image,cmap='gray')\n",
    "    plt.title('Original image') \n",
    "    plt.axis('off')\n",
    "    plt.subplot(1,3,2)\n",
    "    plt.imshow(sobel_x,cmap='gray')\n",
    "    plt.title('Sobel X (Vertical Edges)') \n",
    "    plt.axis('off')\n",
    "    plt.subplot(1,3,3)\n",
    "    plt.imshow(sobel_combined,cmap='gray')\n",
    "    plt.title('Sobel combined (Edges)') \n",
    "    plt.axis('off')\n",
    "    plt.show()"
   ]
  },
  {
   "cell_type": "code",
   "execution_count": null,
   "id": "26e87978-127c-48db-8c90-bfdf8dc7406c",
   "metadata": {},
   "outputs": [],
   "source": [
    "import cv2\n",
    "import matplotlib.pyplot as plt\n",
    "image=cv2.imread('',cv2.IMREAD_GRAYSCALE)\n",
    "canny_edges=cv2.canny(image,100,200)\n",
    "    plt.figure(figsize=(10,5))\n",
    "    plt.subplot(1,2,1)\n",
    "    plt.imshow(image,cmap='gray')\n",
    "    plt.title('Original image') \n",
    "    plt.axis('off')\n",
    "    plt.subplot(1,2,2)\n",
    "    plt.imshow(canny_edges,cmap='gray')\n",
    "    plt.title('Canny Edge Detection') \n",
    "    plt.axis('off')\n",
    "    plt.show()"
   ]
  },
  {
   "cell_type": "code",
   "execution_count": null,
   "id": "14406f12-1036-437f-9fdc-95d532aafb2c",
   "metadata": {},
   "outputs": [],
   "source": [
    "import cv2\n",
    "import numpy as np\n",
    "import matplotlib.pyplot as plt\n",
    "original_image=cv2.imread('',0)\n",
    "equalized_image=cv2.equalizeHist(original_image)\n",
    "def_calculate_rms_contrast(image):\n",
    "mean_intensity=np.mean(image)\n",
    "contrast=np.sqrt(np.mean(image-mean_intensity)**2))\n",
    "return contrast\n",
    "original_contrast=calculate_rms_contrast(original_image)\n",
    "equalized_contrast=calculate_rms_contrast(equalized_image)\n",
    "    plt.figure(figsize=(15,10))\n",
    "plt.subplot(2,2,1)\n",
    "    plt.imshow(original_image,cmap='gray')\n",
    "    plt.title('Original image') \n",
    "    plt.axis('off')\n",
    "plt.subplot(2,2,2)\n",
    "    plt.hist(original_image.ravel(),256,[0,256])\n",
    "    plt.title('Histogram of Original image')\n",
    "plt.subplot(2,2,3)\n",
    "    plt.imshow(equalized_image,cmap='gray')\n",
    "    plt.title('Equalized Image') \n",
    "    plt.axis('off')\n",
    "plt.subplot(2,2,4)\n",
    "    plt.hist(equalilzed_image.ravel(),256,[0,256])\n",
    "    plt.title('Histogram of Equalized Image')\n",
    "plt.show()\n",
    "print(f\"RMS Contrast of Original Image\"{original_contrast}\")\n",
    "print(f\"RMS Contrast of Equalized Image\"{equalized_contrast}\")"
   ]
  },
  {
   "cell_type": "code",
   "execution_count": null,
   "id": "c6bf8538-ef01-475c-abe4-f3b4cd522ff0",
   "metadata": {},
   "outputs": [],
   "source": [
    "import cv2\n",
    "import numpy as np\n",
    "import matplotlib.pyplot as plt\n",
    "image=cv2.imread('')\n",
    "def display_image(title,img):\n",
    "plt.imshow(cv2.cvtColor(img,cv2.COLOR_BGR2RGB))\n",
    " plt.title('title') \n",
    "    plt.axis('off')\n",
    "    plt.show()\n",
    " (h,w)=image.shape[:2]\n",
    "center=(w//2,h//2)\n",
    "rotation_angle=45\n",
    "scale_factor=1.5\n",
    "rotation_matrix=cv2.getRotationMatrix2D(center,rotation_angle,scale_factor)\n",
    "rotated_scale_image=cv2.wrapAffine(image,rotation_matrix,(h,w))\n",
    "plt.figure(figsize=(10,5))\n",
    "    plt.subplot(1,2,1)\n",
    "display_image(\"Original Image\",image)\n",
    " plt.subplot(1,2,1)\n",
    "display_image(\"Rotated and Scaled Image\",rotated_scaled_iamge)"
   ]
  },
  {
   "cell_type": "code",
   "execution_count": null,
   "id": "eb9ef8bb-29b9-49a8-9473-d3eab697d886",
   "metadata": {},
   "outputs": [],
   "source": [
    "import cv2\n",
    "import matplotlib.pyplot as plt\n",
    "def display_image(title,img);\n",
    "img_rgb=cv2.cvtColor(img,cv2.COLOR_BGR2RGB)\n",
    "display\n",
    "plt.imshow(img_rgb)\n",
    "plt.title('title') \n",
    "    plt.axis('off')\n",
    "    plt.show()\n",
    "image=cv2.imread('')\n",
    "gray_image=cv2.cvtColor(image,cv2.COLOR_BGR2GRAY)\n",
    "hsv_image=cv2.cvtColor(image,cv2.COLOR_BGR2HSV)\n",
    "yuv_image=cv2.cvtColor(image,cv2.COLOR_BGR2YUV)\n",
    "lab_image=cv2.cvtColor(image,cv2.COLOR_BGR2LAB)\n",
    "plt.figure(figsize=(15,10)\n",
    "plt.subplot(2,3,1)\n",
    "display_image(\"Original Image\"(RGB)\",image)\n",
    "(plt.subplot(2,3,2)\n",
    "plt.imshow(gray_image,cmap='gray')\n",
    "plt.title('Grayscale Image')\n",
    "plt.axis ('off')\n",
    "plt.subplot(2,3,3)\n",
    "display_image(\"HSV Image\",hsv_image)\n",
    "plt.subplot(2,3,4)\n",
    "display_image(\"YUV Image\",yuv_image)\n",
    "plt.subplot(2,3,5)\n",
    "display_image(\"LAB Image\",lab_image)"
   ]
  },
  {
   "cell_type": "code",
   "execution_count": null,
   "id": "4deb1cdd-1767-4dd4-9f79-6177806ef758",
   "metadata": {},
   "outputs": [],
   "source": [
    "import cv2\n",
    "import matplotlib.pyplot as plt\n",
    "image=cv2.imread('')\n",
    "gray_image=cv2.cvtColor(image,cv2.COLOR_BGR2GRAY)\n",
    "blurred_image=cv2.GausssianBlur(gray_image(5,5),0)\n",
    "edges=cv2.canny(blurred_image,threshold1=150,threshold2=250)\n",
    "plt.figure(figsize=(10,5))\n",
    "plt.subplot(1,2,1)\n",
    "plt.imshow(cv2.cvtColor(image,cv2.COLOR_BGR2RGB))\n",
    "plt.title('Original Image')\n",
    "plt.subplot(1,2,2)\n",
    "plt.imshow(edges,cmap='gray')\n",
    "plt.title('Edges Detected using Canny')\n",
    "plt.show()"
   ]
  },
  {
   "cell_type": "code",
   "execution_count": null,
   "id": "852a9dcb-5802-4dc6-b47f-eaf8328caeb6",
   "metadata": {},
   "outputs": [],
   "source": [
    "import cv2\n",
    "import numpy as np\n",
    "import matplotlib.pyplot as plt\n",
    "image=cv2.imread('')\n",
    "gaussian_blur=cv2.GaussianBlur(image,(5,5),1.4)\n",
    "grad_x=cv2.Sobel(gaussian_blur,cv2.CV_64F,1,0,ksize=3)\n",
    "grad_y=cv2.Sobel(gaussian_blur,cv2.CV_64F,0,1,ksize=3)\n",
    "gradient_magnitude=np.sqrt(grad_x**2+grad_y**2)\n",
    "gradient_direction=np.arctan2(grad_y,grad_x)*(180/no.pi)%180\n",
    "gradient_magnitude=cv2.convertScaleAbs(gradient_magnitude)\n",
    "edges=cv2.Canny(gaussian_blur,threshold1=100,threshold2=200)\n",
    "fig,axes=plt.subplots(2,2,figsize=(10,10))\n",
    "axes[0,0].imshow(image,cmap='gray')\n",
    "axes[0,0].set_title('Original Image')\n",
    "axes[0,0].axis('on')\n",
    "axes[0,1].imshow(gaussian_blur,cmap='gray')\n",
    "axes[0,1].set_title('.Gaussian Blur-Noise Reduction')\n",
    "axes[0,1].axis('on')\n",
    "axes[1,0].imshow(gradient_magnitude,cmap='gray')\n",
    "axes[1,0].set_title('Gradient Magnitude & Direction')\n",
    "  for i in range(0,image.shape[0],20):\n",
    "    for j in range(0,image.shape[1],20):\n",
    "        direction=gradient_direction[i.j]\n",
    "        dx=np.cos(np.deg2rad(direction))*10\n",
    "        dy=np.sin(np.deg2rad(direction))*10\n",
    "        axes[1,0].arrow(j,i,dx,dy,head_width=3,head_length=3,fc='red',ec='red')\n",
    "axes[1,0].axis('on')\n",
    "axes[1,1].imshow(edges,cmap='gray')\n",
    "axes[1,1]set_title('Final Edges (Canny Detection)')\n",
    "axes[1,1].axis('on')\n",
    "plt.tight_layout()\n",
    "plt.show()"
   ]
  },
  {
   "cell_type": "code",
   "execution_count": null,
   "id": "a73c9249-e886-4f3b-b69f-7664439f98e4",
   "metadata": {},
   "outputs": [],
   "source": []
  }
 ],
 "metadata": {
  "kernelspec": {
   "display_name": "Python 3 (ipykernel)",
   "language": "python",
   "name": "python3"
  },
  "language_info": {
   "codemirror_mode": {
    "name": "ipython",
    "version": 3
   },
   "file_extension": ".py",
   "mimetype": "text/x-python",
   "name": "python",
   "nbconvert_exporter": "python",
   "pygments_lexer": "ipython3",
   "version": "3.12.4"
  }
 },
 "nbformat": 4,
 "nbformat_minor": 5
}
